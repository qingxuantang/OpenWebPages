{
 "cells": [
  {
   "cell_type": "markdown",
   "metadata": {
    "colab_type": "raw",
    "id": "hNMz2IuqR0bq"
   },
   "source": [
    "STATUS LOG\n",
    "181122\n",
    "First version finished.\n"
   ]
  },
  {
   "cell_type": "markdown",
   "metadata": {
    "colab_type": "text",
    "id": "zWVnjAH8R0bv"
   },
   "source": [
    "## This code is for automatic webpage opening action."
   ]
  },
  {
   "cell_type": "markdown",
   "metadata": {
    "colab_type": "text",
    "id": "u3FIMrgfR0bx"
   },
   "source": [
    "## Main Code"
   ]
  },
  {
   "cell_type": "code",
   "execution_count": 1,
   "metadata": {
    "colab": {
     "base_uri": "https://localhost:8080/",
     "height": 34
    },
    "colab_type": "code",
    "executionInfo": {
     "elapsed": 15866,
     "status": "ok",
     "timestamp": 1573121036554,
     "user": {
      "displayName": "Mark Zhou",
      "photoUrl": "https://lh3.googleusercontent.com/a-/AAuE7mAx3bQuxWJuuZ7Ba3jRIROH-x-O_TSbBjgXA5lH75M=s64",
      "userId": "10886961317864532202"
     },
     "user_tz": -480
    },
    "id": "jhTJq71mR0bz",
    "outputId": "2c88dff5-066b-47ee-a174-8ddc82893864"
   },
   "outputs": [
    {
     "name": "stdout",
     "output_type": "stream",
     "text": [
      "Are you sure about openning all the US STOCK charts? (y/n)y\n"
     ]
    }
   ],
   "source": [
    "'''US STOCKS'''\n",
    "\n",
    "import webbrowser\n",
    "\n",
    "def open_us_stock_charts():\n",
    "    us_url =[\n",
    "        'https://www.tradingview.com/chart/dEaD5qXm/',\n",
    "        'https://www.tradingview.com/chart/IYbVpsS9/',\n",
    "        'https://www.tradingview.com/chart/RBVJp2WS/',\n",
    "        'https://www.tradingview.com/chart/oNPA20MP/',\n",
    "        'https://www.tradingview.com/chart/j8Iu5MEr/',\n",
    "        'https://www.tradingview.com/chart/k1LCnnM9/',\n",
    "        #'https://www.tradingview.com/chart/mK1GyiKc/', #ABX,symbol invalid\n",
    "        'https://www.tradingview.com/chart/Mr0LbiKB/',\n",
    "    ] \n",
    "    for us in us_url:\n",
    "        webbrowser.open_new(us)\n",
    "\n",
    "us_con = input(\"Are you sure about openning all the US STOCK charts? (y/n)\")\n",
    "if us_con == 'y':\n",
    "    open_us_stock_charts()\n",
    "else:\n",
    "    print('Action aborted.')\n"
   ]
  },
  {
   "cell_type": "code",
   "execution_count": null,
   "metadata": {
    "colab": {},
    "colab_type": "code",
    "id": "0uzNazP9R0b7"
   },
   "outputs": [],
   "source": [
    "'''HKEX STOCKS'''\n",
    "\n",
    "import webbrowser\n",
    "\n",
    "def open_hk_stock_charts():\n",
    "    hk_url =[\n",
    "        'https://www.tradingview.com/chart/JFOjCX22/',\n",
    "        'https://www.tradingview.com/chart/D7npspCZ/',\n",
    "        'https://www.tradingview.com/chart/bROtEnmB/',\n",
    "        'https://www.tradingview.com/chart/lhY2xdab/',\n",
    "        'https://www.tradingview.com/chart/bf5YdIwW/',\n",
    "        'https://www.tradingview.com/chart/Zdseb3pw/',\n",
    "        'https://www.tradingview.com/chart/WFQjAmDL/',\n",
    "        'https://www.tradingview.com/chart/2GxFomf3/',\n",
    "    ] \n",
    "    for hk in hk_url:\n",
    "        webbrowser.open_new(hk)\n",
    "\n",
    "hk_con = input(\"Are you sure about openning all the HKEX STOCK charts? (y/n)\")\n",
    "if hk_con == 'y':\n",
    "    open_hk_stock_charts()\n",
    "else:\n",
    "    print('Action aborted.')\n"
   ]
  },
  {
   "cell_type": "code",
   "execution_count": null,
   "metadata": {
    "colab": {
     "base_uri": "https://localhost:8080/",
     "height": 233
    },
    "colab_type": "code",
    "executionInfo": {
     "elapsed": 2517,
     "status": "error",
     "timestamp": 1572936341605,
     "user": {
      "displayName": "Mark Zhou",
      "photoUrl": "https://lh3.googleusercontent.com/a-/AAuE7mAx3bQuxWJuuZ7Ba3jRIROH-x-O_TSbBjgXA5lH75M=s64",
      "userId": "10886961317864532202"
     },
     "user_tz": -480
    },
    "id": "TK6pJg1wR0cA",
    "outputId": "3f1b0db6-0b0c-4f60-e805-5eb9ce595016"
   },
   "outputs": [
    {
     "ename": "NameError",
     "evalue": "ignored",
     "output_type": "error",
     "traceback": [
      "\u001b[0;31m---------------------------------------------------------------------------\u001b[0m",
      "\u001b[0;31mNameError\u001b[0m                                 Traceback (most recent call last)",
      "\u001b[0;32m<ipython-input-3-bf9aff2c6be6>\u001b[0m in \u001b[0;36m<module>\u001b[0;34m()\u001b[0m\n\u001b[1;32m      2\u001b[0m \u001b[0;34m\u001b[0m\u001b[0m\n\u001b[1;32m      3\u001b[0m \u001b[0;32mimport\u001b[0m \u001b[0mwebbrowser\u001b[0m\u001b[0;34m\u001b[0m\u001b[0;34m\u001b[0m\u001b[0m\n\u001b[0;32m----> 4\u001b[0;31m \u001b[0mwebbrowser\u001b[0m\u001b[0;34m.\u001b[0m\u001b[0mregister\u001b[0m\u001b[0;34m(\u001b[0m\u001b[0;34m'android'\u001b[0m\u001b[0;34m,\u001b[0m \u001b[0mAndroidBrowser\u001b[0m\u001b[0;34m,\u001b[0m \u001b[0;32mNone\u001b[0m\u001b[0;34m,\u001b[0m \u001b[0;34m-\u001b[0m\u001b[0;36m1\u001b[0m\u001b[0;34m)\u001b[0m\u001b[0;34m\u001b[0m\u001b[0;34m\u001b[0m\u001b[0m\n\u001b[0m\u001b[1;32m      5\u001b[0m \u001b[0;34m\u001b[0m\u001b[0m\n\u001b[1;32m      6\u001b[0m \u001b[0;32mdef\u001b[0m \u001b[0mopen_cc_stock_charts\u001b[0m\u001b[0;34m(\u001b[0m\u001b[0;34m)\u001b[0m\u001b[0;34m:\u001b[0m\u001b[0;34m\u001b[0m\u001b[0;34m\u001b[0m\u001b[0m\n",
      "\u001b[0;31mNameError\u001b[0m: name 'AndroidBrowser' is not defined"
     ]
    }
   ],
   "source": [
    "'''CRYPTOCURRENCY'''\n",
    "\n",
    "import webbrowser\n",
    "webbrowser.register('android', AndroidBrowser, None, -1)\n",
    "\n",
    "def open_cc_stock_charts():\n",
    "    cc_url =[\n",
    "        'https://www.tradingview.com/chart/1qYvHMZe/',\n",
    "        'https://www.tradingview.com/chart/rcf2kDWN/',\n",
    "        'https://www.tradingview.com/chart/E65JE3rd/',\n",
    "        'https://www.tradingview.com/chart/wAYfQDbj/',\n",
    "        'https://www.tradingview.com/chart/gt9JkAPV/',\n",
    "        'https://www.tradingview.com/chart/QjBsfVxM/',\n",
    "        'https://www.tradingview.com/chart/XU4AWmqn/',\n",
    "        'https://www.tradingview.com/chart/sEEYf86p/',\n",
    "        'https://www.tradingview.com/chart/nKGXQSFu/',\n",
    "        #'https://www.tradingview.com/chart/EmlxTwBc/',\n",
    "    ] \n",
    "    for cc in cc_url:\n",
    "        webbrowser.open_new(cc)\n",
    "\n",
    "cc_con = input(\"Are you sure about openning all the CRYPTO charts? (y/n)\")\n",
    "if cc_con == 'y':\n",
    "    open_cc_stock_charts()\n",
    "else:\n",
    "    print('Action aborted.')\n"
   ]
  },
  {
   "cell_type": "code",
   "execution_count": 1,
   "metadata": {
    "colab": {},
    "colab_type": "code",
    "id": "8kJVI6e7R0cE",
    "outputId": "f40bb7a2-6334-407e-c99a-7b1219e52c7e"
   },
   "outputs": [
    {
     "name": "stdin",
     "output_type": "stream",
     "text": [
      "Are you sure about openning all the Inter-Market charts? (y/n) y\n"
     ]
    }
   ],
   "source": [
    "'''INTER MARKET CHARTS'''\n",
    "\n",
    "import webbrowser\n",
    "\n",
    "def open_im_stock_charts():\n",
    "    im_url =[\n",
    "       'https://www.tradingview.com/chart/OpAP6D80/',\n",
    "        'https://www.tradingview.com/chart/5WtdWwAj/',\n",
    "        'https://www.tradingview.com/chart/XHrMFFAi/',\n",
    "        'https://www.tradingview.com/chart/6etjc7dC/', \n",
    "    ] \n",
    "    for im in im_url:\n",
    "        webbrowser.open_new(im)\n",
    "\n",
    "im_con = input(\"Are you sure about openning all the Inter-Market charts? (y/n)\")\n",
    "if im_con == 'y':\n",
    "    open_im_stock_charts()\n",
    "else:\n",
    "    print('Action aborted.')\n"
   ]
  },
  {
   "cell_type": "code",
   "execution_count": null,
   "metadata": {
    "colab": {},
    "colab_type": "code",
    "id": "GeFWUvkjR0cH"
   },
   "outputs": [],
   "source": [
    "'''CS50 Notes'''\n",
    "\n",
    "import webbrowser\n",
    "\n",
    "def open_pages():\n",
    "    cs50_num = [1,2,3,4,5,6,7,8,9,10]\n",
    "    for n in cs50_num:\n",
    "        url = 'https://cs50.harvard.edu/college/weeks/' + str(n) + '/notes/'\n",
    "        webbrowser.open_new(url)\n",
    "\n",
    "popup = input(\"Are you sure about openning all the Pages? (y/n)\")\n",
    "if popup == 'y':\n",
    "    open_pages()\n",
    "else:\n",
    "    print('Action aborted.')   "
   ]
  },
  {
   "cell_type": "markdown",
   "metadata": {
    "colab_type": "text",
    "id": "nrQ91jfnR0cL",
    "toc-hr-collapsed": false
   },
   "source": [
    "## Test Code"
   ]
  },
  {
   "cell_type": "code",
   "execution_count": 2,
   "metadata": {
    "colab": {
     "base_uri": "https://localhost:8080/",
     "height": 360
    },
    "colab_type": "code",
    "executionInfo": {
     "elapsed": 13175,
     "status": "ok",
     "timestamp": 1573121076072,
     "user": {
      "displayName": "Mark Zhou",
      "photoUrl": "https://lh3.googleusercontent.com/a-/AAuE7mAx3bQuxWJuuZ7Ba3jRIROH-x-O_TSbBjgXA5lH75M=s64",
      "userId": "10886961317864532202"
     },
     "user_tz": -480
    },
    "id": "lAq9jJ75VEdT",
    "outputId": "7871c118-1762-4582-9c17-6fd0d968d37c"
   },
   "outputs": [
    {
     "name": "stdout",
     "output_type": "stream",
     "text": [
      "Collecting kivy\n",
      "\u001b[?25l  Downloading https://files.pythonhosted.org/packages/23/4d/e32e93eecdc8740a0f5c389c3b65acb8621a330615381478a874510c7b29/Kivy-1.11.1-cp36-cp36m-manylinux2010_x86_64.whl (28.3MB)\n",
      "\u001b[K     |████████████████████████████████| 28.3MB 76kB/s \n",
      "\u001b[?25hRequirement already satisfied: pygments in /usr/local/lib/python3.6/dist-packages (from kivy) (2.1.3)\n",
      "Requirement already satisfied: docutils in /usr/local/lib/python3.6/dist-packages (from kivy) (0.15.2)\n",
      "Collecting Kivy-Garden>=0.1.4\n",
      "  Downloading https://files.pythonhosted.org/packages/7d/68/decaee596ff8168a39432eb3949fc7c0be952ebb9467806823bffc165d48/kivy-garden-0.1.4.tar.gz\n",
      "Requirement already satisfied: requests in /usr/local/lib/python3.6/dist-packages (from Kivy-Garden>=0.1.4->kivy) (2.21.0)\n",
      "Requirement already satisfied: certifi>=2017.4.17 in /usr/local/lib/python3.6/dist-packages (from requests->Kivy-Garden>=0.1.4->kivy) (2019.9.11)\n",
      "Requirement already satisfied: idna<2.9,>=2.5 in /usr/local/lib/python3.6/dist-packages (from requests->Kivy-Garden>=0.1.4->kivy) (2.8)\n",
      "Requirement already satisfied: chardet<3.1.0,>=3.0.2 in /usr/local/lib/python3.6/dist-packages (from requests->Kivy-Garden>=0.1.4->kivy) (3.0.4)\n",
      "Requirement already satisfied: urllib3<1.25,>=1.21.1 in /usr/local/lib/python3.6/dist-packages (from requests->Kivy-Garden>=0.1.4->kivy) (1.24.3)\n",
      "Building wheels for collected packages: Kivy-Garden\n",
      "  Building wheel for Kivy-Garden (setup.py) ... \u001b[?25l\u001b[?25hdone\n",
      "  Created wheel for Kivy-Garden: filename=Kivy_Garden-0.1.4-cp36-none-any.whl size=4532 sha256=4c997e37a52dc35618df73256469203caf8f726b297dd1f2a68fe460b0209f27\n",
      "  Stored in directory: /root/.cache/pip/wheels/e5/09/36/4bec048252175b6aa7ba75441cbeed8f31a0bea37abedcfed0\n",
      "Successfully built Kivy-Garden\n",
      "Installing collected packages: Kivy-Garden, kivy\n",
      "Successfully installed Kivy-Garden-0.1.4 kivy-1.11.1\n"
     ]
    }
   ],
   "source": [
    "!pip install kivy"
   ]
  },
  {
   "cell_type": "code",
   "execution_count": null,
   "metadata": {
    "colab": {},
    "colab_type": "code",
    "id": "0r0oyJxbR0cM"
   },
   "outputs": [],
   "source": [
    "from kivy.utils import platform\n",
    "\n",
    "def launch_webbrowser(url):\n",
    "    import webbrowser\n",
    "    if platform == 'android':\n",
    "        from jnius import autoclass, cast\n",
    "        def open_url(url):\n",
    "            PythonActivity = autoclass('org.kivy.android.PythonActivity')\n",
    "            activity = PythonActivity.mActivity\n",
    "            Intent = autoclass('android.content.Intent')\n",
    "            Uri = autoclass('android.net.Uri')\n",
    "            browserIntent = Intent()\n",
    "            browserIntent.setAction(Intent.ACTION_VIEW)\n",
    "            browserIntent.setData(Uri.parse(url))\n",
    "            currentActivity = cast('android.app.Activity', activity)\n",
    "            currentActivity.startActivity(browserIntent)\n",
    "\n",
    "        # Web browser support.\n",
    "        class AndroidBrowser(object):\n",
    "            def open(self, url, new=0, autoraise=True):\n",
    "                open_url(url)\n",
    "            def open_new(self, url):\n",
    "                open_url(url)\n",
    "            def open_new_tab(self, url):\n",
    "                open_url(url)\n",
    "\n",
    "        webbrowser.register('android', AndroidBrowser, None, -1)\n",
    "\n",
    "    webbrowser.open_new(url)\n",
    "\n",
    "launch_webbrowser('http://www.kivy.org')"
   ]
  },
  {
   "cell_type": "code",
   "execution_count": 6,
   "metadata": {
    "colab": {
     "base_uri": "https://localhost:8080/",
     "height": 34
    },
    "colab_type": "code",
    "executionInfo": {
     "elapsed": 1154,
     "status": "ok",
     "timestamp": 1573121785116,
     "user": {
      "displayName": "Mark Zhou",
      "photoUrl": "https://lh3.googleusercontent.com/a-/AAuE7mAx3bQuxWJuuZ7Ba3jRIROH-x-O_TSbBjgXA5lH75M=s64",
      "userId": "10886961317864532202"
     },
     "user_tz": -480
    },
    "id": "8Dbrvz3JXWZT",
    "outputId": "abf2ed84-550d-4d87-c2df-acff84eacdc6"
   },
   "outputs": [
    {
     "data": {
      "text/plain": [
       "False"
      ]
     },
     "execution_count": 6,
     "metadata": {
      "tags": []
     },
     "output_type": "execute_result"
    }
   ],
   "source": [
    "import webbrowser\n",
    "webbrowser.open_new_tab(\"chrome://newtab\")"
   ]
  }
 ],
 "metadata": {
  "colab": {
   "name": "Copy of openpages.ipynb",
   "provenance": []
  },
  "kernelspec": {
   "display_name": "Python 3",
   "language": "python",
   "name": "python3"
  },
  "language_info": {
   "codemirror_mode": {
    "name": "ipython",
    "version": 3
   },
   "file_extension": ".py",
   "mimetype": "text/x-python",
   "name": "python",
   "nbconvert_exporter": "python",
   "pygments_lexer": "ipython3",
   "version": "3.6.5"
  }
 },
 "nbformat": 4,
 "nbformat_minor": 4
}
