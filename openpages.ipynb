{
 "cells": [
  {
   "cell_type": "raw",
   "metadata": {},
   "source": [
    "STATUS LOG\n",
    "181122\n",
    "First version finished.\n"
   ]
  },
  {
   "cell_type": "markdown",
   "metadata": {},
   "source": [
    "## This code is for automatic webpage opening action."
   ]
  },
  {
   "cell_type": "markdown",
   "metadata": {},
   "source": [
    "## Main Code"
   ]
  },
  {
   "cell_type": "code",
   "execution_count": 1,
   "metadata": {},
   "outputs": [
    {
     "name": "stdin",
     "output_type": "stream",
     "text": [
      "Are you sure about openning all the US STOCK charts? (y/n) y\n"
     ]
    }
   ],
   "source": [
    "'''US STOCKS'''\n",
    "\n",
    "import webbrowser\n",
    "\n",
    "def open_us_stock_charts():\n",
    "    us_url =[\n",
    "        'https://www.tradingview.com/chart/dEaD5qXm/',\n",
    "        'https://www.tradingview.com/chart/IYbVpsS9/',\n",
    "        'https://www.tradingview.com/chart/RBVJp2WS/',\n",
    "        'https://www.tradingview.com/chart/oNPA20MP/',\n",
    "        'https://www.tradingview.com/chart/j8Iu5MEr/',\n",
    "        'https://www.tradingview.com/chart/k1LCnnM9/',\n",
    "        #'https://www.tradingview.com/chart/mK1GyiKc/', #ABX,symbol invalid\n",
    "        'https://www.tradingview.com/chart/Mr0LbiKB/',\n",
    "    ] \n",
    "    for us in us_url:\n",
    "        webbrowser.open_new(us)\n",
    "\n",
    "us_con = input(\"Are you sure about openning all the US STOCK charts? (y/n)\")\n",
    "if us_con == 'y':\n",
    "    open_us_stock_charts()\n",
    "else:\n",
    "    print('Action aborted.')\n"
   ]
  },
  {
   "cell_type": "code",
   "execution_count": 2,
   "metadata": {},
   "outputs": [
    {
     "name": "stdin",
     "output_type": "stream",
     "text": [
      "Are you sure about openning all the HKEX STOCK charts? (y/n) y\n"
     ]
    }
   ],
   "source": [
    "'''HKEX STOCKS'''\n",
    "\n",
    "import webbrowser\n",
    "\n",
    "def open_hk_stock_charts():\n",
    "    hk_url =[\n",
    "        'https://www.tradingview.com/chart/JFOjCX22/',\n",
    "        'https://www.tradingview.com/chart/D7npspCZ/',\n",
    "        'https://www.tradingview.com/chart/bROtEnmB/',\n",
    "        'https://www.tradingview.com/chart/lhY2xdab/',\n",
    "        'https://www.tradingview.com/chart/bf5YdIwW/',\n",
    "        'https://www.tradingview.com/chart/Zdseb3pw/',\n",
    "        'https://www.tradingview.com/chart/WFQjAmDL/',\n",
    "        'https://www.tradingview.com/chart/2GxFomf3/',\n",
    "    ] \n",
    "    for hk in hk_url:\n",
    "        webbrowser.open_new(hk)\n",
    "\n",
    "hk_con = input(\"Are you sure about openning all the HKEX STOCK charts? (y/n)\")\n",
    "if hk_con == 'y':\n",
    "    open_hk_stock_charts()\n",
    "else:\n",
    "    print('Action aborted.')\n"
   ]
  },
  {
   "cell_type": "code",
   "execution_count": 3,
   "metadata": {},
   "outputs": [
    {
     "name": "stdin",
     "output_type": "stream",
     "text": [
      "Are you sure about openning all the CRYPTO charts? (y/n) y\n"
     ]
    }
   ],
   "source": [
    "'''CRYPTOCURRENCY'''\n",
    "\n",
    "import webbrowser\n",
    "\n",
    "def open_cc_stock_charts():\n",
    "    cc_url =[\n",
    "        'https://www.tradingview.com/chart/1qYvHMZe/',\n",
    "        'https://www.tradingview.com/chart/rcf2kDWN/',\n",
    "        'https://www.tradingview.com/chart/E65JE3rd/',\n",
    "        'https://www.tradingview.com/chart/wAYfQDbj/',\n",
    "        'https://www.tradingview.com/chart/gt9JkAPV/',\n",
    "        'https://www.tradingview.com/chart/QjBsfVxM/',\n",
    "        'https://www.tradingview.com/chart/XU4AWmqn/',\n",
    "        'https://www.tradingview.com/chart/sEEYf86p/',\n",
    "        'https://www.tradingview.com/chart/nKGXQSFu/',\n",
    "        #'https://www.tradingview.com/chart/EmlxTwBc/',\n",
    "    ] \n",
    "    for cc in cc_url:\n",
    "        webbrowser.open_new(cc)\n",
    "\n",
    "cc_con = input(\"Are you sure about openning all the CRYPTO charts? (y/n)\")\n",
    "if cc_con == 'y':\n",
    "    open_cc_stock_charts()\n",
    "else:\n",
    "    print('Action aborted.')\n"
   ]
  },
  {
   "cell_type": "code",
   "execution_count": 10,
   "metadata": {},
   "outputs": [
    {
     "name": "stdin",
     "output_type": "stream",
     "text": [
      "Are you sure about openning all the Inter-Market charts? (y/n) y\n"
     ]
    }
   ],
   "source": [
    "'''INTER MARKET CHARTS'''\n",
    "\n",
    "import webbrowser\n",
    "\n",
    "def open_im_stock_charts():\n",
    "    im_url =[\n",
    "       'https://www.tradingview.com/chart/OpAP6D80/',\n",
    "        'https://www.tradingview.com/chart/5WtdWwAj/',\n",
    "        'https://www.tradingview.com/chart/XHrMFFAi/',\n",
    "        'https://www.tradingview.com/chart/6etjc7dC/', \n",
    "    ] \n",
    "    for im in im_url:\n",
    "        webbrowser.open_new(im)\n",
    "\n",
    "im_con = input(\"Are you sure about openning all the Inter-Market charts? (y/n)\")\n",
    "if im_con == 'y':\n",
    "    open_im_stock_charts()\n",
    "else:\n",
    "    print('Action aborted.')\n"
   ]
  },
  {
   "cell_type": "code",
   "execution_count": 5,
   "metadata": {},
   "outputs": [],
   "source": [
    "'''CS50 Notes'''\n",
    "\n",
    "import webbrowser\n",
    "\n",
    "def open_pages():\n",
    "    cs50_num = [1,2,3,4,5,6,7,8,9,10]\n",
    "    for n in cs50_num:\n",
    "        url = 'https://cs50.harvard.edu/college/weeks/' + str(n) + '/notes/'\n",
    "        webbrowser.open_new(url)\n",
    "\n",
    "popup = input(\"Are you sure about openning all the Pages? (y/n)\")\n",
    "if popup == 'y':\n",
    "    open_pages()\n",
    "else:\n",
    "    print('Action aborted.')   "
   ]
  },
  {
   "cell_type": "markdown",
   "metadata": {
    "toc-hr-collapsed": false
   },
   "source": [
    "## Test Code"
   ]
  },
  {
   "cell_type": "code",
   "execution_count": null,
   "metadata": {},
   "outputs": [],
   "source": []
  }
 ],
 "metadata": {
  "kernelspec": {
   "display_name": "Python 3",
   "language": "python",
   "name": "python3"
  },
  "language_info": {
   "codemirror_mode": {
    "name": "ipython",
    "version": 3
   },
   "file_extension": ".py",
   "mimetype": "text/x-python",
   "name": "python",
   "nbconvert_exporter": "python",
   "pygments_lexer": "ipython3",
   "version": "3.6.9"
  }
 },
 "nbformat": 4,
 "nbformat_minor": 4
}
